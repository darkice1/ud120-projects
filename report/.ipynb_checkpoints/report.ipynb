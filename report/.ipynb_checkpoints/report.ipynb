{
 "cells": [
  {
   "cell_type": "markdown",
   "metadata": {},
   "source": [
    "# 报告项目"
   ]
  },
  {
   "cell_type": "code",
   "execution_count": 220,
   "metadata": {
    "collapsed": false,
    "scrolled": false
   },
   "outputs": [
    {
     "name": "stdout",
     "output_type": "stream",
     "text": [
      "Minimum price: 0.00\n",
      "Maximum price: 41,551.00\n",
      "Mean price: 5,773.82\n",
      "Median price 5,744.00\n",
      "Standard deviation of prices: 3,849.92\n",
      "条数:1017209\n"
     ]
    }
   ],
   "source": [
    "# 原始数据处理\n",
    "import numpy as np\n",
    "import pandas as pd\n",
    "from sklearn.linear_model import LinearRegression\n",
    "from sklearn import tree\n",
    "from sklearn.ensemble import RandomForestRegressor\n",
    "from time import time\n",
    "from sklearn.grid_search import GridSearchCV\n",
    "from sklearn.metrics import make_scorer\n",
    "from sklearn.metrics import r2_score\n",
    "from sklearn.grid_search import GridSearchCV\n",
    "from sklearn.metrics import fbeta_score, accuracy_score\n",
    "\n",
    "from sklearn.metrics import mean_absolute_error\n",
    "from sklearn.metrics import mean_squared_error\n",
    "from sklearn.metrics import median_absolute_error\n",
    "from sklearn.model_selection import train_test_split\n",
    "import visuals as vs\n",
    "from sklearn.cross_validation import ShuffleSplit\n",
    "import zipfile, os\n",
    "\n",
    "\n",
    "\n",
    "#from sklearn.cross_validation import ShuffleSplits\n",
    "#import visuals as vs\n",
    "from IPython.display import display # 使得我们可以对DataFrame使用display()函数\n",
    "\n",
    "# 设置以内联的形式显示matplotlib绘制的图片（在notebook中显示更美观）\n",
    "%matplotlib inline\n",
    "    \n",
    "\n",
    "# 载入整个客户数据集\n",
    "data = pd.read_csv(\"train.csv\")\n",
    "\n",
    "data[\"StateHoliday\"] = data[\"StateHoliday\"].replace([\"a\",\"b\",\"c\"],[1,2,3])\n",
    "#print data[\"StateHoliday\"]\n",
    "#data = data[data.Open==1]\n",
    "\n",
    "prices = data['Sales']\n",
    "features = data.drop(['Sales','Date','Customers'], axis = 1)\n",
    "\n",
    "# TODO: Minimum price of the data\n",
    "#目标：计算价值的最小值\n",
    "minimum_price = np.min(prices)\n",
    "\n",
    "# TODO: Maximum price of the data\n",
    "#目标：计算价值的最大值\n",
    "maximum_price = np.max(prices)\n",
    "\n",
    "# TODO: Mean price of the data\n",
    "#目标：计算价值的平均值\n",
    "mean_price = np.mean(prices)\n",
    "\n",
    "# TODO: Median price of the data\n",
    "#目标：计算价值的中值\n",
    "median_price = np.median(prices)\n",
    "\n",
    "# TODO: Standard deviation of prices of the data\n",
    "#目标：计算价值的标准差\n",
    "std_price = np.std(prices)\n",
    "\n",
    "# Show the calculated statistics\n",
    "#目标：输出计算的结果\n",
    "print \"Minimum price: {:,.2f}\".format(minimum_price)\n",
    "print \"Maximum price: {:,.2f}\".format(maximum_price)\n",
    "print \"Mean price: {:,.2f}\".format(mean_price)\n",
    "print \"Median price {:,.2f}\".format(median_price)\n",
    "print \"Standard deviation of prices: {:,.2f}\".format(std_price)\n",
    "\n",
    "print \"条数:\"+str(len(data))\n",
    "\n",
    "X_train, X_test, y_train, y_test = train_test_split( features, prices, test_size=0.2, random_state=1)\n",
    "\n",
    "ktest = pd.read_csv(\"test.csv\")\n",
    "\n",
    "testdata = ktest.copy()\n",
    "#testdata = pd.read_csv(\"train.csv\")\n",
    "\n",
    "#d = {'one' : pd.Series([1., 2., 3.], index=['a', 'b', 'c']),'two' : pd.Series([1., 2., 3., 4.], index=['a', 'b', 'c', 'd'])}\n",
    "#df = pd.DataFrame(d)\n",
    "\n",
    "testdata[\"StateHoliday\"] = testdata[\"StateHoliday\"].replace([\"a\",\"b\",\"c\"],[1,2,3])\n",
    "#testdata[\"Open\"] = testdata[\"Open\"].replace([''],[0])\n",
    "#print testdata[\"Open\"]\n",
    "\n",
    "testdata = testdata.drop('Date', axis = 1).drop('Id', axis = 1)\n",
    "\n",
    "def outcvszip(clf,num,x_test=X_test,ktestdata=testdata):\n",
    "    name = clf.__class__.__name__+\"_\"+str(num)\n",
    "    y_pred = clf.predict(x_test)\n",
    "    print name+\" 的r2得分:\"+str(r2_score(y_test, y_pred))\n",
    "    \n",
    "    predictions_test = clf.predict(ktestdata)\n",
    "    d = {'Id':pd.Series(range(1,len(predictions_test)+1),index=range(1,len(predictions_test)+1)),'Sales':pd.Series(predictions_test,index=range(1,len(predictions_test)+1))}\n",
    "    df = pd.DataFrame(d)\n",
    "                                                                                                          \n",
    "    #print predictions_test\n",
    "    #print df\n",
    "    csvname = name+\".csv\"\n",
    "    df.to_csv(csvname,index=False)#header=False\n",
    "    \n",
    "    zipFile = zipfile.ZipFile(name+'.zip', 'w')\n",
    "    zipFile.write(csvname, compress_type=zipfile.ZIP_DEFLATED)\n",
    "    zipFile.close()\n",
    "    #print str(y_test[0])+\" \"+ str(predictions_test[0])\n",
    "    print name+\"写入文件完成\"\n",
    "\n",
    "\n",
    "#vs.ModelLearning(features, prices)\n",
    "\n"
   ]
  },
  {
   "cell_type": "code",
   "execution_count": 106,
   "metadata": {
    "collapsed": false
   },
   "outputs": [
    {
     "data": {
      "image/png": "[encoded data removed]",
      "text/plain": [
       "<matplotlib.figure.Figure at 0x11a05ead0>"
      ]
     },
     "metadata": {},
     "output_type": "display_data"
    }
   ],
   "source": [
    "import matplotlib.pyplot as plt\n",
    "\n",
    "for i,col in enumerate(features.columns):\n",
    "    plt.subplot(2,3,i+1)\n",
    "    plt.plot(data[col],prices,'.')\n",
    "    plt.title(col)\n",
    "    #plt.xlabel(col)\n",
    "    #plt.ylabel('prices')\n",
    "\n",
    "plt.show()"
   ]
  },
  {
   "cell_type": "code",
   "execution_count": 70,
   "metadata": {
    "collapsed": false
   },
   "outputs": [
    {
     "name": "stdout",
     "output_type": "stream",
     "text": [
      "LinearRegression使用训练数量:1017209 用时:0.595114946365\n",
      "DecisionTreeRegressor使用训练数量:1017209 用时:2.06649923325\n",
      "RandomForestRegressor使用训练数量:1017209 用时:14.2136921883\n"
     ]
    }
   ],
   "source": [
    "clfs = []\n",
    "clfs.append(LinearRegression())\n",
    "#clfs.append(tree.DecisionTreeClassifier(random_state = 0))\n",
    "clfs.append(tree.DecisionTreeRegressor(random_state = 0))\n",
    "clfs.append(RandomForestRegressor())\n",
    "\n",
    "num=features.shape[0]\n",
    "for clf in clfs:\n",
    "    start = time()\n",
    "    #clf.fit(features.head(n=20000),prices.head(n=20000))\n",
    "    #clf = clf.fit(features.head(n=num),prices.head(n=num))\n",
    "    clf = clf.fit(features,prices)\n",
    "    end = time()\n",
    "    print clf.__class__.__name__+\"使用训练数量:\"+str(num)+\" 用时:\"+str(end-start)\n"
   ]
  },
  {
   "cell_type": "code",
   "execution_count": 69,
   "metadata": {
    "collapsed": false,
    "scrolled": false
   },
   "outputs": [
    {
     "name": "stdout",
     "output_type": "stream",
     "text": [
      "LinearRegression r2得分:0.531696935595\n",
      "DecisionTreeRegressor r2得分:0.921998987536\n",
      "RandomForestRegressor r2得分:0.921743242524\n"
     ]
    }
   ],
   "source": [
    "for clf in clfs:\n",
    "    #X_train, X_test, y_train, y_test\n",
    "    name = clf.__class__.__name__\n",
    "    y_pred = clf.predict(X_test)\n",
    "\n",
    "    #print name+\"mean_absolute_error得分:\"+str(mean_absolute_error(y_test, y_pred))\n",
    "    #print name+\"mean_squared_error得分:\"+str(mean_squared_error(y_test, y_pred))\n",
    "    #print name+\"median_absolute_error得分:\"+str(median_absolute_error(y_test, y_pred))\n",
    "    print name+\" r2得分:\"+str(r2_score(y_test, y_pred))\n",
    "    #print name+\" r2得分:\"+str(clf.score(y_test, y_pred))"
   ]
  },
  {
   "cell_type": "code",
   "execution_count": 74,
   "metadata": {
    "collapsed": false,
    "scrolled": false
   },
   "outputs": [
    {
     "name": "stdout",
     "output_type": "stream",
     "text": [
      "LinearRegression 优化后的r2得分:0.531694478161 用时:58.8621449471\n",
      "DecisionTreeRegressor 优化后的r2得分:0.915491972633 用时:105.891249895\n",
      "RandomForestRegressor 优化后的r2得分:0.915495003843 用时:1287.21214008\n"
     ]
    }
   ],
   "source": [
    "def performance_metric(y_true, y_predict):\n",
    "    score = r2_score(y_true,y_predict) \n",
    "    # Return the score\n",
    "    return score\n",
    "\n",
    "scoring_fnc = make_scorer(performance_metric)\n",
    "\n",
    "cv_sets = ShuffleSplit(X_train.shape[0], n_iter = 10, test_size = 0.20, random_state = 1)\n",
    "\n",
    "params = []\n",
    "params.append({'fit_intercept':[True,False],'normalize':[True,False],'copy_X':[True,False],'n_jobs':[-1]})\n",
    "params.append({'max_depth': [None,1,3,5],'max_features':['auto','sqrt','log2']})#,'presort':[True,False]\n",
    "params.append({'n_estimators': [10,20,100],'n_jobs':[-1]})#,'max_depth':[None,1,3,5]\n",
    "\n",
    "oclfs = []\n",
    "\n",
    "for i in range(0,len(clfs)):\n",
    "    #X_train, X_test, y_train, y_test\n",
    "    start = time()\n",
    "    clf = clfs[i]\n",
    "    p = params[i]\n",
    "    name = clf.__class__.__name__\n",
    "    \n",
    "    grid =  GridSearchCV(clf, p, scoring_fnc, cv=cv_sets,n_jobs=-1) \n",
    "    \n",
    "    grid = grid.fit(X_train, y_train)\n",
    "    \n",
    "    oclf = grid.best_estimator_\n",
    "    \n",
    "    oclfs.append(oclf)\n",
    "    \n",
    "    y_pred = oclf.predict(X_test)\n",
    "    \n",
    "    end = time()\n",
    "    print name+\" 优化后的r2得分:\"+str(r2_score(y_test, y_pred))+\" 用时:\"+str(end-start)\n"
   ]
  },
  {
   "cell_type": "code",
   "execution_count": null,
   "metadata": {
    "collapsed": true
   },
   "outputs": [],
   "source": [
    "for clf in oclfs:\n",
    "    #X_train, X_test, y_train, y_test\n",
    "    outcvszip(clf,3)"
   ]
  },
  {
   "cell_type": "code",
   "execution_count": 28,
   "metadata": {
    "collapsed": false
   },
   "outputs": [
    {
     "name": "stdout",
     "output_type": "stream",
     "text": [
      "DecisionTreeRegressor_4 的r2得分:0.811365560725\n",
      "DecisionTreeRegressor_4写入文件完成\n"
     ]
    }
   ],
   "source": [
    "#第4次训练 测试 DecisionTreeClassifier\n",
    "\n",
    "clf4 = tree.DecisionTreeRegressor(random_state=0,max_depth=25)\n",
    "clf4.fit(features,prices)\n",
    "outcvszip(clf4,4)\n",
    "\n",
    "#0.31445"
   ]
  },
  {
   "cell_type": "code",
   "execution_count": 30,
   "metadata": {
    "collapsed": false
   },
   "outputs": [
    {
     "name": "stdout",
     "output_type": "stream",
     "text": [
      "DecisionTreeRegressor_5 的r2得分:0.660193305525\n",
      "DecisionTreeRegressor_5写入文件完成\n"
     ]
    }
   ],
   "source": [
    "#第5次训练 测试 \n",
    "\n",
    "clf5 = tree.DecisionTreeRegressor(random_state=0,max_depth=15)\n",
    "clf5.fit(features,prices)\n",
    "outcvszip(clf5,5)\n",
    "\n",
    "#0.40809"
   ]
  },
  {
   "cell_type": "code",
   "execution_count": 41,
   "metadata": {
    "collapsed": false
   },
   "outputs": [
    {
     "name": "stdout",
     "output_type": "stream",
     "text": [
      "DecisionTreeRegressor_6 的r2得分:0.567779483319\n",
      "DecisionTreeRegressor_6写入文件完成\n"
     ]
    }
   ],
   "source": [
    "#第6次训练 测试 \n",
    "\n",
    "clf6 = tree.DecisionTreeRegressor(random_state=0,max_depth=6)\n",
    "clf6.fit(features,prices)\n",
    "outcvszip(clf6,6)\n",
    "\n",
    "#0.44825"
   ]
  },
  {
   "cell_type": "code",
   "execution_count": 46,
   "metadata": {
    "collapsed": false
   },
   "outputs": [
    {
     "name": "stdout",
     "output_type": "stream",
     "text": [
      "DecisionTreeRegressor_7 的r2得分:0.871699809402\n",
      "DecisionTreeRegressor_7写入文件完成\n"
     ]
    }
   ],
   "source": [
    "#第7次训练 测试 \n",
    "\n",
    "clf7 = tree.DecisionTreeRegressor(random_state=0,min_samples_split=100,min_samples_leaf=100)\n",
    "clf7.fit(features,prices)\n",
    "outcvszip(clf7,7)\n",
    "\n",
    "#0.20600"
   ]
  },
  {
   "cell_type": "code",
   "execution_count": 51,
   "metadata": {
    "collapsed": false
   },
   "outputs": [
    {
     "name": "stdout",
     "output_type": "stream",
     "text": [
      "RandomForestRegressor_8 的r2得分:0.62346685349\n",
      "RandomForestRegressor_8写入文件完成\n"
     ]
    }
   ],
   "source": [
    "#第8次训练 测试 \n",
    "\n",
    "clf8 = RandomForestRegressor(random_state=0,min_samples_split=1000,min_samples_leaf=1000)\n",
    "clf8.fit(features,prices)\n",
    "outcvszip(clf8,8)\n",
    "\n",
    "#0.42774"
   ]
  },
  {
   "cell_type": "code",
   "execution_count": 58,
   "metadata": {
    "collapsed": false
   },
   "outputs": [
    {
     "name": "stdout",
     "output_type": "stream",
     "text": [
      "RandomForestRegressor_9 的r2得分:0.588597670782\n",
      "RandomForestRegressor_9写入文件完成\n"
     ]
    }
   ],
   "source": [
    "#第9次训练 测试 \n",
    "\n",
    "clf9 = RandomForestRegressor(random_state=0,min_samples_split=2000,min_samples_leaf=2000)\n",
    "clf9.fit(features,prices)\n",
    "outcvszip(clf9,9)\n",
    "\n",
    "#0.44158"
   ]
  },
  {
   "cell_type": "code",
   "execution_count": 194,
   "metadata": {
    "collapsed": false,
    "scrolled": false
   },
   "outputs": [],
   "source": [
    "#读取store.cvs合并数据\n",
    "store = pd.read_csv(\"store.csv\")\n",
    "store[\"StoreType\"] = store[\"StoreType\"].replace([\"a\",\"b\",\"c\",\"d\"],[1,2,3,4])\n",
    "store[\"Assortment\"] = store[\"Assortment\"].replace([\"a\",\"b\",\"c\"],[1,2,3])\n",
    "\n",
    "store_dic = dict(list(store.groupby('Store')))\n",
    "\n",
    "#print features[\"Store\"]\n",
    "\n",
    "def tof2(pb):\n",
    "    npb = pb.copy()\n",
    "    #print npb\n",
    "    #print len(npb)\n",
    "    StoreTypes = []\n",
    "    Assortments = []\n",
    "    for i in range(0,npb.shape[0]):\n",
    "        #print i\n",
    "        s = store_dic[npb[\"Store\"][i]]\n",
    "        #print s['StoreType'].values\n",
    "        StoreTypes.append(s[\"StoreType\"].values[0])\n",
    "        Assortments.append(s[\"Assortment\"].values[0])\n",
    "        #npb[\"StoreType\"][i] = store_dic[npb[\"Store\"][i]]\n",
    "        #print store_dic[npb[\"Store\"][i]][\"StoreType\"]\n",
    "    npb[\"StoreType\"] = StoreTypes\n",
    "    npb[\"Assortment\"] = Assortments \n",
    "    \n",
    "    npb = npb.drop(['Store'], axis = 1)\n",
    "    \n",
    "    return npb\n",
    "\n",
    "#print features\n",
    "#print features.shape\n",
    "\n",
    "f2 = tof2(features)\n",
    "testdata2 = tof2(testdata)\n",
    "#features = data.drop('Sales', axis = 1).drop('Date', axis = 1).drop('Customers', axis = 1)\n",
    "#print train2\n"
   ]
  },
  {
   "cell_type": "code",
   "execution_count": 206,
   "metadata": {
    "collapsed": false,
    "scrolled": false
   },
   "outputs": [
    {
     "name": "stdout",
     "output_type": "stream",
     "text": [
      "RandomForestRegressor_10 的r2得分:0.573342097248\n",
      "RandomForestRegressor_10写入文件完成\n"
     ]
    }
   ],
   "source": [
    "#print testdata2\n",
    "\n",
    "X_train2, X_test2, y_train2, y_test2 = train_test_split( f2, prices, test_size=0.2, random_state=1)\n",
    "\n",
    "#print (X_train2.head(1))\n",
    "#print (testdata2.head(1))\n",
    "\n",
    "#第10次训练 测试 \n",
    "\n",
    "clf10 = RandomForestRegressor(random_state=0,min_samples_split=2000,min_samples_leaf=2000)\n",
    "clf10.fit(f2,prices)\n",
    "\n",
    "outcvszip(clf10,10,x_test=X_test2,ktestdata=testdata2)\n",
    "#0.42385"
   ]
  },
  {
   "cell_type": "code",
   "execution_count": 207,
   "metadata": {
    "collapsed": false
   },
   "outputs": [
    {
     "name": "stdout",
     "output_type": "stream",
     "text": [
      "LinearRegression_11 的r2得分:0.537753270456\n",
      "LinearRegression_11写入文件完成\n"
     ]
    }
   ],
   "source": [
    "#第11次训练 测试 \n",
    "\n",
    "clf11 = LinearRegression()\n",
    "clf11.fit(f2,prices)\n",
    "\n",
    "outcvszip(clf11,11,x_test=X_test2,ktestdata=testdata2)\n",
    "#0.44879"
   ]
  },
  {
   "cell_type": "code",
   "execution_count": 228,
   "metadata": {
    "collapsed": false,
    "scrolled": false
   },
   "outputs": [],
   "source": [
    "def tof3(pb):\n",
    "    npb = pb.copy()\n",
    "\n",
    "    npb['Year']  = npb['Date'].apply(lambda x: int(str(x)[:4]))\n",
    "    npb['Month'] = npb['Date'].apply(lambda x: int(str(x)[5:7]))\n",
    "    \n",
    "    npb[\"StateHoliday\"] = npb[\"StateHoliday\"].replace([\"a\",\"b\",\"c\"],[1,2,3])\n",
    "    #npb = npb.drop(['Sales','Date','Customers'], axis = 1)\n",
    "\n",
    "    #npb = npb.drop(['Store'], axis = 1)\n",
    "    \n",
    "    return npb\n",
    "\n",
    "#print features\n",
    "#print features.shape\n",
    "\n",
    "f3 = tof3(data)\n",
    "f3 = f3.drop(['Sales','Date','Customers'], axis = 1)\n",
    "\n",
    "testdata3 = tof3(ktest)\n",
    "testdata3 = testdata3.drop(['Date','Id'], axis = 1)\n",
    "\n",
    "X_train3, X_test3, y_train3, y_test3 = train_test_split( f3, prices, test_size=0.2, random_state=1)\n"
   ]
  },
  {
   "cell_type": "code",
   "execution_count": 230,
   "metadata": {
    "collapsed": false
   },
   "outputs": [
    {
     "name": "stdout",
     "output_type": "stream",
     "text": [
      "LinearRegression_12 的r2得分:0.535726184875\n",
      "LinearRegression_12写入文件完成\n"
     ]
    }
   ],
   "source": [
    "#第12次训练 测试 \n",
    "\n",
    "clf12 = LinearRegression()\n",
    "clf12.fit(f3,prices)\n",
    "\n",
    "outcvszip(clf12,12,x_test=X_test3,ktestdata=testdata3)\n",
    "#0.50924"
   ]
  },
  {
   "cell_type": "code",
   "execution_count": 231,
   "metadata": {
    "collapsed": false
   },
   "outputs": [
    {
     "name": "stdout",
     "output_type": "stream",
     "text": [
      "RandomForestRegressor_13 的r2得分:0.59502493836\n",
      "RandomForestRegressor_13写入文件完成\n"
     ]
    }
   ],
   "source": [
    "#第13次训练 测试 \n",
    "\n",
    "clf13 = RandomForestRegressor(random_state=0,min_samples_split=2000,min_samples_leaf=2000)\n",
    "clf13.fit(f3,prices)\n",
    "\n",
    "outcvszip(clf13,13,x_test=X_test3,ktestdata=testdata3)\n",
    "#0.50924"
   ]
  },
  {
   "cell_type": "code",
   "execution_count": null,
   "metadata": {
    "collapsed": true
   },
   "outputs": [],
   "source": []
  }
 ],
 "metadata": {
  "kernelspec": {
   "display_name": "Python [default]",
   "language": "python",
   "name": "python2"
  },
  "language_info": {
   "codemirror_mode": {
    "name": "ipython",
    "version": 2
   },
   "file_extension": ".py",
   "mimetype": "text/x-python",
   "name": "python",
   "nbconvert_exporter": "python",
   "pygments_lexer": "ipython2",
   "version": "2.7.13"
  }
 },
 "nbformat": 4,
 "nbformat_minor": 2
}
