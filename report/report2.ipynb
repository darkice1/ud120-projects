{
 "cells": [
  {
   "cell_type": "markdown",
   "metadata": {},
   "source": [
    "# 报告项目"
   ]
  },
  {
   "cell_type": "code",
   "execution_count": 2,
   "metadata": {
    "collapsed": false,
    "scrolled": false
   },
   "outputs": [
    {
     "name": "stdout",
     "output_type": "stream",
     "text": [
      "总条数:1017209\n",
      "Sales最小值: 0.00\n",
      "Sales最大值: 41,551.00\n",
      "Sales均值: 5,773.82\n",
      "Sales中值 5,744.00\n",
      "Sales标准差: 3,849.92\n"
     ]
    }
   ],
   "source": [
    "# 原始数据处理\n",
    "import numpy as np\n",
    "import pandas as pd\n",
    "from sklearn.linear_model import LinearRegression\n",
    "from sklearn import tree\n",
    "from sklearn.ensemble import RandomForestRegressor\n",
    "from time import time\n",
    "from sklearn.grid_search import GridSearchCV\n",
    "from sklearn.metrics import make_scorer\n",
    "from sklearn.metrics import r2_score\n",
    "from sklearn.metrics import fbeta_score, accuracy_score\n",
    "\n",
    "from sklearn.metrics import mean_absolute_error\n",
    "from sklearn.metrics import mean_squared_error\n",
    "from sklearn.metrics import median_absolute_error\n",
    "from sklearn.model_selection import train_test_split\n",
    "import visuals as vs\n",
    "import zipfile, os\n",
    "from IPython.display import display # 使得我们可以对DataFrame使用display()函数\n",
    "\n",
    "# 设置以内联的形式显示matplotlib绘制的图片（在notebook中显示更美观）\n",
    "%matplotlib inline\n",
    "    \n",
    "\n",
    "# 载入整个客户数据集\n",
    "data = pd.read_csv(\"train.csv\")\n",
    "data[\"StateHoliday\"] = data[\"StateHoliday\"].replace([\"0\",\"a\",\"b\",\"c\"],[0,1,2,3])\n",
    "\n",
    "\n",
    "print \"总条数:\"+str(len(data))\n",
    "#data = data[data['Sales'] >0]\n",
    "#print \"去除0的条数:\"+str(len(data))\n",
    "\n",
    "\n",
    "prices = data['Sales']\n",
    "\n",
    "#prices = data['Sales']\n",
    "#features = data.drop(['Sales','Date','Customers'], axis = 1)\n",
    "\n",
    "# TODO: Minimum price of the data\n",
    "#目标：计算价值的最小值\n",
    "minimum_price = np.min(prices)\n",
    "\n",
    "# TODO: Maximum price of the data\n",
    "#目标：计算价值的最大值\n",
    "maximum_price = np.max(prices)\n",
    "\n",
    "# TODO: Mean price of the data\n",
    "#目标：计算价值的平均值\n",
    "mean_price = np.mean(prices)\n",
    "\n",
    "# TODO: Median price of the data\n",
    "#目标：计算价值的中值\n",
    "median_price = np.median(prices)\n",
    "\n",
    "# TODO: Standard deviation of prices of the data\n",
    "#目标：计算价值的标准差\n",
    "std_price = np.std(prices)\n",
    "\n",
    "# Show the calculated statistics\n",
    "#目标：输出计算的结果\n",
    "print \"Sales最小值: {:,.2f}\".format(minimum_price)\n",
    "print \"Sales最大值: {:,.2f}\".format(maximum_price)\n",
    "print \"Sales均值: {:,.2f}\".format(mean_price)\n",
    "print \"Sales中值 {:,.2f}\".format(median_price)\n",
    "print \"Sales标准差: {:,.2f}\".format(std_price)\n",
    "\n",
    "ktest = pd.read_csv(\"test.csv\")\n",
    "ktest[\"StateHoliday\"] = ktest[\"StateHoliday\"].replace([\"0\",\"a\",\"b\",\"c\"],[0,1,2,3])\n"
   ]
  },
  {
   "cell_type": "code",
   "execution_count": 3,
   "metadata": {
    "collapsed": false,
    "scrolled": false
   },
   "outputs": [
    {
     "name": "stdout",
     "output_type": "stream",
     "text": [
      "完成合并数据\n"
     ]
    }
   ],
   "source": [
    "#合并数据\n",
    "store = pd.read_csv(\"store.csv\")\n",
    "store[\"StoreType\"] = store[\"StoreType\"].replace([\"a\",\"b\",\"c\",\"d\"],[1,2,3,4])\n",
    "store[\"Assortment\"] = store[\"Assortment\"].replace([\"a\",\"b\",\"c\"],[1,2,3])\n",
    "\n",
    "store_dic = dict(list(store.groupby('Store')))\n",
    "\n",
    "#print features[\"Store\"]\n",
    "\n",
    "def tof2(pb):\n",
    "    npb = pb.copy()\n",
    "    \n",
    "    ss = dict()\n",
    "    for s in store:\n",
    "        #print s\n",
    "        if s!=\"Store\":\n",
    "            #print s\n",
    "            ss[s]=[]     \n",
    "\n",
    "    #print ss\n",
    "    \n",
    "    #print npb\n",
    "    #print len(npb)\n",
    "    npb['Year']  = npb['Date'].apply(lambda x: int(str(x)[:4]))\n",
    "    npb['Month'] = npb['Date'].apply(lambda x: int(str(x)[5:7]))\n",
    "    \n",
    "    for i in range(0,npb.shape[0]):\n",
    "        #print i\n",
    "        #print npb['Date'][:4]\n",
    "\n",
    "        #npb[\"StateHoliday\"] = npb[\"StateHoliday\"].replace([\"a\",\"b\",\"c\"],[1,2,3])\n",
    "        s = store_dic[npb[\"Store\"][i]]\n",
    "        for sc in ss:\n",
    "            #sc = str(sc)\n",
    "            #print sc+\" \"+str(s[sc].values[0])\n",
    "            #print s[sc]\n",
    "            #ss[\"StoreType\"].append(s[sc].values[0])\n",
    "            ss[sc].append(s[sc].values[0])\n",
    "            #print ss[sc].values\n",
    "        #    print sc\n",
    "            #print sc\n",
    "    for sc in ss:\n",
    "        npb[sc]=ss[sc]\n",
    "    npb = npb.drop(['PromoInterval'], axis = 1)\n",
    "    \n",
    "    return npb\n",
    "\n",
    "#print store.head(1)\n",
    "#print ktest.head(1)\n",
    "testdata = tof2(data)\n",
    "\n",
    "print \"完成合并数据\"\n",
    "#print testdata.head(1)\n",
    "#testdata[\"StateHoliday\"] = testdata[\"StateHoliday\"].replace([\"a\",\"b\",\"c\"],[1,2,3])"
   ]
  },
  {
   "cell_type": "code",
   "execution_count": 5,
   "metadata": {
    "collapsed": false,
    "scrolled": false
   },
   "outputs": [
    {
     "data": {
      "image/png": "[encoded data removed]",
      "text/plain": [
       "<matplotlib.figure.Figure at 0x11fa3b150>"
      ]
     },
     "metadata": {},
     "output_type": "display_data"
    },
    {
     "data": {
      "image/png": "[encoded data removed]",
      "text/plain": [
       "<matplotlib.figure.Figure at 0x11faa8950>"
      ]
     },
     "metadata": {},
     "output_type": "display_data"
    },
    {
     "data": {
      "image/png": "[encoded data removed]",
      "text/plain": [
       "<matplotlib.figure.Figure at 0x11fa59c50>"
      ]
     },
     "metadata": {},
     "output_type": "display_data"
    },
    {
     "data": {
      "image/png": "[encoded data removed]",
      "text/plain": [
       "<matplotlib.figure.Figure at 0x1199a9210>"
      ]
     },
     "metadata": {},
     "output_type": "display_data"
    },
    {
     "data": {
      "image/png": "[encoded data removed]",
      "text/plain": [
       "<matplotlib.figure.Figure at 0x11cf34c10>"
      ]
     },
     "metadata": {},
     "output_type": "display_data"
    },
    {
     "data": {
      "image/png": "[encoded data removed]",
      "text/plain": [
       "<matplotlib.figure.Figure at 0x11d0b9890>"
      ]
     },
     "metadata": {},
     "output_type": "display_data"
    },
    {
     "data": {
      "image/png": "[encoded data removed]",
      "text/plain": [
       "<matplotlib.figure.Figure at 0x11d21ca50>"
      ]
     },
     "metadata": {},
     "output_type": "display_data"
    },
    {
     "data": {
      "image/png": "[encoded data removed]",
      "text/plain": [
       "<matplotlib.figure.Figure at 0x11d5275d0>"
      ]
     },
     "metadata": {},
     "output_type": "display_data"
    },
    {
     "data": {
      "image/png": "[encoded data removed]",
      "text/plain": [
       "<matplotlib.figure.Figure at 0x11d5272d0>"
      ]
     },
     "metadata": {},
     "output_type": "display_data"
    },
    {
     "data": {
      "image/png": "[encoded data removed]",
      "text/plain": [
       "<matplotlib.figure.Figure at 0x11d68ce10>"
      ]
     },
     "metadata": {},
     "output_type": "display_data"
    }
   ],
   "source": [
    "import matplotlib.pyplot as plt\n",
    "\n",
    "features = testdata.drop(['Store','Sales','Date','Customers','CompetitionOpenSinceMonth','CompetitionOpenSinceYear','Promo2SinceYear','Promo2SinceWeek','CompetitionDistance'], axis = 1)\n",
    "\n",
    "for i,col in enumerate(features.columns):\n",
    "    #plt.subplot(2,3,i+1)\n",
    "    #print col\n",
    "    g = testdata.groupby(col)[\"Sales\"].mean()\n",
    "    #print g\n",
    "    \n",
    "    #plt.plot(features[col],prices,'.')\n",
    "    plt.bar(g.index,g.values)\n",
    "    plt.title(col)\n",
    "    plt.xlabel(col)\n",
    "    plt.ylabel('prices')\n",
    "    plt.show()\n",
    "    #fig, (axis1,axis2) = plt.subplots(2,1,sharex=True,figsize=(15,8))\n",
    "    #ax1 = x.plot(legend=True,ax=axis1,marker='o',title=\"Average Sales\")\n",
    "    #ax1.set_xticks(range(len(average_sales)))\n",
    "    #ax1.set_xticklabels(average_sales.index.tolist(), rotation=90)\n",
    "\n",
    "\n"
   ]
  },
  {
   "cell_type": "code",
   "execution_count": 9,
   "metadata": {
    "collapsed": false
   },
   "outputs": [],
   "source": [
    "#拆分数据\n",
    "X_train, X_test, y_train, y_test = train_test_split( features, prices, test_size=0.2, random_state=0)\n",
    "\n",
    "def ToWeight(y):\n",
    "    w = np.zeros(y.shape, dtype=float)\n",
    "    ind = y != 0\n",
    "    w[ind] = 1./(y[ind]**2)\n",
    "    return w\n",
    "\n",
    "def RMSPE(yhat, y):\n",
    "    w = ToWeight(y)\n",
    "    rmspe = np.sqrt(np.mean( w * (y - yhat)**2 ))\n",
    "    return rmspe\n",
    "\n",
    "def outcvszip(clf,num,x_test=X_test,ktestdata=testdata):\n",
    "    name = clf.__class__.__name__+\"_\"+str(num)\n",
    "    y_pred = clf.predict(x_test)\n",
    "    print name+\" 的RMSPE得分:\"+str(RMSPE(y_test, y_pred))\n",
    "    \n",
    "    predictions_test = clf.predict(ktestdata)\n",
    "    d = {'Id':pd.Series(range(1,len(predictions_test)+1),index=range(1,len(predictions_test)+1)),'Sales':pd.Series(predictions_test,index=range(1,len(predictions_test)+1))}\n",
    "    df = pd.DataFrame(d)\n",
    "                                                                                                          \n",
    "    #print predictions_test\n",
    "    #print df\n",
    "    csvname = name+\"_v2.csv\"\n",
    "    df.to_csv(csvname,index=False)#header=False\n",
    "    \n",
    "    zipFile = zipfile.ZipFile(name+'_v2.zip', 'w')\n",
    "    zipFile.write(csvname, compress_type=zipfile.ZIP_DEFLATED)\n",
    "    zipFile.close()\n",
    "    #print str(y_test[0])+\" \"+ str(predictions_test[0])\n",
    "    print name+\"写入文件完成\"\n",
    "\n",
    "#'Store',\n",
    "#features = testdata.drop(['Sales','Date','Customers','CompetitionOpenSinceMonth','CompetitionOpenSinceYear','Promo2SinceYear','Promo2SinceWeek','CompetitionDistance'], axis = 1)\n",
    "\n",
    "#X_train, X_test, y_train, y_test = train_test_split( features, prices, test_size=0.2, random_state=0)"
   ]
  },
  {
   "cell_type": "code",
   "execution_count": 10,
   "metadata": {
    "collapsed": false
   },
   "outputs": [
    {
     "name": "stdout",
     "output_type": "stream",
     "text": [
      "mean 的本地RMSPE得分:0.547185081047\n",
      "mean写入文件完成\n",
      "median 的本地RMSPE得分:0.516694408912\n",
      "median写入文件完成\n"
     ]
    }
   ],
   "source": [
    "def testpredict(dic,X):\n",
    "    predictions_test = []\n",
    "    for s in X[\"Store\"]:\n",
    "        predictions_test.append(dic[s])\n",
    "    return np.array(predictions_test)\n",
    "\n",
    "def test(dic,name):\n",
    "    \n",
    "    X_train, X_test, y_train, y_test = train_test_split( data, prices, test_size=0.2, random_state=0)\n",
    "    \n",
    "    predictions_test = testpredict(dic,X_test)\n",
    "    print name+\" 的本地RMSPE得分:\"+str(RMSPE(y_test, predictions_test))\n",
    "    \n",
    "    predictions_test = testpredict(dic,ktest)\n",
    "        \n",
    "    d = {'Id':pd.Series(range(1,len(predictions_test)+1),index=range(1,len(predictions_test)+1)),'Sales':pd.Series(predictions_test,index=range(1,len(predictions_test)+1))}\n",
    "    df = pd.DataFrame(d)\n",
    "                                                                                                          \n",
    "    #print predictions_test\n",
    "    #print df\n",
    "    csvname = name+\"_v2.csv\"\n",
    "    df.to_csv(csvname,index=False)#header=False\n",
    "    \n",
    "    zipFile = zipfile.ZipFile(name+'_v2.zip', 'w')\n",
    "    zipFile.write(csvname, compress_type=zipfile.ZIP_DEFLATED)\n",
    "    zipFile.close()\n",
    "    #print str(y_test[0])+\" \"+ str(predictions_test[0])\n",
    "    print name+\"写入文件完成\"\n",
    "    \n",
    "\n",
    "\n",
    "meandic = data.groupby(\"Store\")[\"Sales\"].mean()\n",
    "mediandic =  data.groupby(\"Store\")[\"Sales\"].median()\n",
    "\n",
    "test(meandic,\"mean\")\n",
    "test(mediandic,\"median\")\n",
    " \n",
    "#print meandic[2]"
   ]
  },
  {
   "cell_type": "code",
   "execution_count": 11,
   "metadata": {
    "collapsed": false,
    "scrolled": false
   },
   "outputs": [
    {
     "name": "stdout",
     "output_type": "stream",
     "text": [
      "LinearRegression使用训练数量:1017209 用时:0.392040967941\n",
      "DecisionTreeRegressor使用训练数量:1017209 用时:1.62742185593\n",
      "RandomForestRegressor使用训练数量:1017209 用时:13.495262146\n"
     ]
    }
   ],
   "source": [
    "clfs = []\n",
    "clfs.append(LinearRegression())\n",
    "#clfs.append(tree.DecisionTreeClassifier(random_state = 0))\n",
    "clfs.append(tree.DecisionTreeRegressor(random_state = 0))\n",
    "clfs.append(RandomForestRegressor(random_state=0))\n",
    "\n",
    "\n",
    "num=features.shape[0]\n",
    "for clf in clfs:\n",
    "    start = time()\n",
    "    #clf.fit(features.head(n=20000),prices.head(n=20000))\n",
    "    #clf = clf.fit(features.head(n=num),prices.head(n=num))\n",
    "    clf = clf.fit(X_train,y_train)\n",
    "    end = time()\n",
    "    print clf.__class__.__name__+\"使用训练数量:\"+str(num)+\" 用时:\"+str(end-start)"
   ]
  },
  {
   "cell_type": "code",
   "execution_count": 12,
   "metadata": {
    "collapsed": false,
    "scrolled": false
   },
   "outputs": [
    {
     "name": "stdout",
     "output_type": "stream",
     "text": [
      "LinearRegression_1 的RMSPE得分:0.551757814743\n",
      "LinearRegression_1写入文件完成\n",
      "DecisionTreeRegressor_1 的RMSPE得分:0.336798060153\n",
      "DecisionTreeRegressor_1写入文件完成\n",
      "RandomForestRegressor_1 的RMSPE得分:0.336453473775\n",
      "RandomForestRegressor_1写入文件完成\n"
     ]
    }
   ],
   "source": [
    "testdata1 =  tof2(ktest)\n",
    "testdata1 = testdata1.drop(['Id','Store','Date','CompetitionOpenSinceMonth','CompetitionOpenSinceYear','Promo2SinceYear','Promo2SinceWeek','CompetitionDistance'], axis = 1)\n",
    "\n",
    "#X_train, X_test, y_train, y_test = train_test_split(features, prices, test_size=0.2, random_state=0)\n",
    "\n",
    "for clf in clfs:\n",
    "    outcvszip(clf,\"1\",x_test=X_test,ktestdata=testdata1)"
   ]
  },
  {
   "cell_type": "code",
   "execution_count": 17,
   "metadata": {
    "collapsed": false,
    "scrolled": false
   },
   "outputs": [
    {
     "name": "stdout",
     "output_type": "stream",
     "text": [
      "LinearRegression 优化后的RMSPE得分:0.551933640687 用时:25.0400428772\n",
      "DecisionTreeRegressor 优化后的RMSPE得分:1.31691570329 用时:684.983707905\n",
      "RandomForestRegressor 优化后的RMSPE得分:0.406119104621 用时:152.300956011\n"
     ]
    }
   ],
   "source": [
    "def performance_metric(y_true, y_predict):\n",
    "    score = RMSPE(y_true,y_predict) \n",
    "    # Return the score\n",
    "    return score\n",
    "\n",
    "scoring_fnc = make_scorer(performance_metric)\n",
    "\n",
    "#X_train, X_test, y_train, y_test = train_test_split( features, prices, test_size=0.2, random_state=0)\n",
    "#X_train2, X_test2, y_train2, y_test2 = train_test_split( features, prices, test_size=0.2, random_state=1)\n",
    "\n",
    "params = []\n",
    "params.append({'fit_intercept':[True,False],'normalize':[True,False],'copy_X':[True,False],'n_jobs':[-1]})\n",
    "params.append({'max_depth': [None,1,3,5],'max_features':['auto','sqrt','log2'],'min_samples_split':[100,500,1000,2000],'min_samples_leaf':[100,500,1000,2000],'random_state':[0]})#,'presort':[True,False]\n",
    "params.append({'max_depth':[1,3,5],'n_jobs':[-1],'min_samples_split':[1000,2000],'min_samples_leaf':[1000,2000],'random_state':[0]})#,'max_depth':[None,1,3,5]\n",
    "\n",
    "oclfs = []\n",
    "\n",
    "for i in range(0,len(clfs)):\n",
    "    #X_train, X_test, y_train, y_test\n",
    "    clf = clfs[i]\n",
    "    p = params[i]\n",
    "    name = clf.__class__.__name__\n",
    "    \n",
    "    #if name== 'RandomForestRegressor':\n",
    "    start = time()\n",
    "    grid =  GridSearchCV(clf, p, scoring_fnc, cv=5,n_jobs=-1) \n",
    "    grid = grid.fit(X_train, y_train)   \n",
    "    oclf = grid.best_estimator_    \n",
    "    oclfs.append(oclf)\n",
    "    \n",
    "    y_pred = oclf.predict(X_test)\n",
    "    \n",
    "    end = time()\n",
    "    print name+\" 优化后的RMSPE得分:\"+str(RMSPE(y_test, y_pred))+\" 用时:\"+str(end-start)\n",
    "\n",
    "#LinearRegression 优化后的RMSPE得分:0.551933640687 用时:24.5874650478\n",
    "#DecisionTreeRegressor 优化后的RMSPE得分:1.31691570329 用时:651.78999114"
   ]
  },
  {
   "cell_type": "code",
   "execution_count": 18,
   "metadata": {
    "collapsed": false
   },
   "outputs": [
    {
     "name": "stdout",
     "output_type": "stream",
     "text": [
      "LinearRegression_2 的RMSPE得分:0.551933640687\n",
      "LinearRegression_2写入文件完成\n",
      "DecisionTreeRegressor_2 的RMSPE得分:1.31691570329\n",
      "DecisionTreeRegressor_2写入文件完成\n",
      "RandomForestRegressor_2 的RMSPE得分:0.406119104621\n",
      "RandomForestRegressor_2写入文件完成\n"
     ]
    }
   ],
   "source": [
    "#第2次训练\n",
    "for clf in oclfs:\n",
    "    #X_train, X_test, y_train, y_test\n",
    "    outcvszip(clf,\"2\",x_test=X_test,ktestdata=testdata1)\n",
    "    #outcvszip(clf,2)"
   ]
  },
  {
   "cell_type": "code",
   "execution_count": 42,
   "metadata": {
    "collapsed": false
   },
   "outputs": [
    {
     "name": "stdout",
     "output_type": "stream",
     "text": [
      "Feature ranking:\n",
      "1. feature 1 DayOfWeek (0.719652)\n",
      "2. feature 2 Open (0.113780)\n",
      "3. feature 0 Promo (0.047766)\n",
      "4. feature 6 StateHoliday (0.035285)\n",
      "5. feature 9 SchoolHoliday (0.032428)\n",
      "6. feature 8 Year (0.018974)\n",
      "7. feature 7 Month (0.013875)\n",
      "8. feature 5 Promo2 (0.009048)\n",
      "9. feature 4 Assortment (0.008060)\n",
      "10. feature 3 StoreType (0.001132)\n"
     ]
    },
    {
     "data": {
      "image/png": "[encoded data removed]",
      "text/plain": [
       "<matplotlib.figure.Figure at 0x11d99e090>"
      ]
     },
     "metadata": {},
     "output_type": "display_data"
    }
   ],
   "source": [
    "forest = clfs[2]\n",
    "importances = forest.feature_importances_\n",
    "std = np.std([tree.feature_importances_ for tree in forest.estimators_],axis=0)\n",
    "indices = np.argsort(importances)[::-1]\n",
    "\n",
    "#print forest\n",
    "#print X_train.columns\n",
    "\n",
    "print(\"Feature ranking:\")\n",
    "\n",
    "for f in range(X_train.shape[1]):\n",
    "    print(\"%d. feature %d %s (%f)\" % (f + 1, indices[f],X_train.columns[f], importances[indices[f]]))\n",
    "\n",
    "# Plot the feature importances of the forest\n",
    "plt.figure()\n",
    "plt.title(\"Feature importances\")\n",
    "plt.bar(range(X_train.shape[1]), importances[indices], yerr=std[indices], align=\"center\")\n",
    "plt.xticks(range(X_train.shape[1]), indices)\n",
    "plt.xlim([-1, X_train.shape[1]])\n",
    "plt.show()"
   ]
  },
  {
   "cell_type": "code",
   "execution_count": null,
   "metadata": {
    "collapsed": true
   },
   "outputs": [],
   "source": []
  }
 ],
 "metadata": {
  "kernelspec": {
   "display_name": "Python [default]",
   "language": "python",
   "name": "python2"
  },
  "language_info": {
   "codemirror_mode": {
    "name": "ipython",
    "version": 2
   },
   "file_extension": ".py",
   "mimetype": "text/x-python",
   "name": "python",
   "nbconvert_exporter": "python",
   "pygments_lexer": "ipython2",
   "version": "2.7.13"
  }
 },
 "nbformat": 4,
 "nbformat_minor": 2
}
